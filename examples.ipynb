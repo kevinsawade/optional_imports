{
 "cells": [
  {
   "cell_type": "markdown",
   "id": "16c2cf7e",
   "metadata": {},
   "source": [
    "# Imports"
   ]
  },
  {
   "cell_type": "code",
   "execution_count": 1,
   "id": "539984d0",
   "metadata": {
    "ExecuteTime": {
     "end_time": "2021-05-10T12:18:28.311438Z",
     "start_time": "2021-05-10T12:18:28.141804Z"
    }
   },
   "outputs": [],
   "source": [
    "import numpy as np"
   ]
  },
  {
   "cell_type": "code",
   "execution_count": 2,
   "id": "afec4ea2",
   "metadata": {
    "ExecuteTime": {
     "end_time": "2021-05-10T12:18:29.087923Z",
     "start_time": "2021-05-10T12:18:28.337068Z"
    }
   },
   "outputs": [
    {
     "data": {
      "text/plain": [
       "array([[0.97804705, 0.60644556, 0.58759365, 0.24691574, 0.02162171],\n",
       "       [0.71131521, 0.30414781, 0.78235492, 0.57476037, 0.10778452],\n",
       "       [0.06586756, 0.61611237, 0.63782751, 0.01710635, 0.18934712],\n",
       "       [0.07823646, 0.57031809, 0.00770644, 0.62487671, 0.3192615 ],\n",
       "       [0.45867425, 0.48356245, 0.83232841, 0.9812974 , 0.17731175]])"
      ]
     },
     "execution_count": 2,
     "metadata": {},
     "output_type": "execute_result"
    }
   ],
   "source": [
    "from numpy.random import random as rando\n",
    "rando((5, 5))"
   ]
  },
  {
   "cell_type": "code",
   "execution_count": 3,
   "id": "1da3ba02",
   "metadata": {
    "ExecuteTime": {
     "end_time": "2021-05-10T12:18:29.111159Z",
     "start_time": "2021-05-10T12:18:29.089147Z"
    }
   },
   "outputs": [],
   "source": [
    "import opt_imports as optim"
   ]
  },
  {
   "cell_type": "code",
   "execution_count": 4,
   "id": "33105db7",
   "metadata": {
    "ExecuteTime": {
     "end_time": "2021-05-10T12:18:29.116870Z",
     "start_time": "2021-05-10T12:18:29.112894Z"
    }
   },
   "outputs": [
    {
     "data": {
      "text/plain": [
       "array([1, 2, 3])"
      ]
     },
     "execution_count": 4,
     "metadata": {},
     "output_type": "execute_result"
    }
   ],
   "source": [
    "from opt_imports.optional_imports import _optional_import\n",
    "np = _optional_import('numpy')\n",
    "np.array([1, 2, 3])"
   ]
  },
  {
   "cell_type": "code",
   "execution_count": 5,
   "id": "ddc7eddc",
   "metadata": {
    "ExecuteTime": {
     "end_time": "2021-05-10T12:18:29.129929Z",
     "start_time": "2021-05-10T12:18:29.118383Z"
    }
   },
   "outputs": [
    {
     "name": "stdout",
     "output_type": "stream",
     "text": [
      "Install the `nonexistent_package` package to make use of this feature.\n"
     ]
    }
   ],
   "source": [
    "nonexistent = _optional_import('nonexistent_package')\n",
    "try:\n",
    "    nonexistent.function()\n",
    "except ValueError as e:\n",
    "    print(e)"
   ]
  },
  {
   "cell_type": "code",
   "execution_count": 6,
   "id": "04e5a359",
   "metadata": {
    "ExecuteTime": {
     "end_time": "2021-05-10T12:18:29.143918Z",
     "start_time": "2021-05-10T12:18:29.131172Z"
    }
   },
   "outputs": [
    {
     "name": "stdout",
     "output_type": "stream",
     "text": [
      "Install the `nonexistent_package` package to make use of this feature.\n"
     ]
    }
   ],
   "source": [
    "nonexistent = _optional_import('nonexistent_package')\n",
    "try:\n",
    "    _ = nonexistent.variable\n",
    "except ValueError as e:\n",
    "    print(e)"
   ]
  },
  {
   "cell_type": "code",
   "execution_count": 7,
   "id": "3a599869",
   "metadata": {
    "ExecuteTime": {
     "end_time": "2021-05-10T12:18:29.205482Z",
     "start_time": "2021-05-10T12:18:29.202266Z"
    }
   },
   "outputs": [],
   "source": [
    "rando = _optional_import('numpy', 'random.random')"
   ]
  },
  {
   "cell_type": "code",
   "execution_count": 8,
   "id": "571f9425",
   "metadata": {
    "ExecuteTime": {
     "end_time": "2021-05-10T12:18:29.398802Z",
     "start_time": "2021-05-10T12:18:29.390939Z"
    }
   },
   "outputs": [
    {
     "data": {
      "text/plain": [
       "array([[ 8., 14.,  0.,  6.,  3.],\n",
       "       [ 2.,  4.,  7.,  8., 11.],\n",
       "       [ 8., 14.,  4., 18.,  1.],\n",
       "       [13.,  8., 11.,  3.,  4.],\n",
       "       [16., 19.,  6., 14., 18.]])"
      ]
     },
     "execution_count": 8,
     "metadata": {},
     "output_type": "execute_result"
    }
   ],
   "source": [
    "np.random.seed(1)\n",
    "np.round(rando((5, 5)) * 20, 0)"
   ]
  },
  {
   "cell_type": "code",
   "execution_count": 9,
   "id": "c8334fcc",
   "metadata": {
    "ExecuteTime": {
     "end_time": "2021-05-10T12:18:29.621565Z",
     "start_time": "2021-05-10T12:18:29.617177Z"
    }
   },
   "outputs": [],
   "source": [
    "xr = _optional_import('xarray')"
   ]
  },
  {
   "cell_type": "code",
   "execution_count": 10,
   "id": "1a9463f4",
   "metadata": {
    "ExecuteTime": {
     "end_time": "2021-05-10T12:18:30.218374Z",
     "start_time": "2021-05-10T12:18:30.140563Z"
    }
   },
   "outputs": [
    {
     "ename": "ValueError",
     "evalue": "Install the `xarray` package with version `>=0.17.0` to make use of this feature.",
     "output_type": "error",
     "traceback": [
      "\u001b[0;31m---------------------------------------------------------------------------\u001b[0m",
      "\u001b[0;31mModuleNotFoundError\u001b[0m                       Traceback (most recent call last)",
      "\u001b[0;32m~/projects/optional_packages/opt_imports/optional_imports.py\u001b[0m in \u001b[0;36m_optional_import\u001b[0;34m(module, name)\u001b[0m\n\u001b[1;32m     38\u001b[0m     \u001b[0;32mtry\u001b[0m\u001b[0;34m:\u001b[0m\u001b[0;34m\u001b[0m\u001b[0;34m\u001b[0m\u001b[0m\n\u001b[0;32m---> 39\u001b[0;31m         \u001b[0mmodule\u001b[0m \u001b[0;34m=\u001b[0m \u001b[0mimportlib\u001b[0m\u001b[0;34m.\u001b[0m\u001b[0mimport_module\u001b[0m\u001b[0;34m(\u001b[0m\u001b[0mmodule\u001b[0m\u001b[0;34m)\u001b[0m\u001b[0;34m\u001b[0m\u001b[0;34m\u001b[0m\u001b[0m\n\u001b[0m\u001b[1;32m     40\u001b[0m         \u001b[0;32mif\u001b[0m \u001b[0mname\u001b[0m \u001b[0;32mis\u001b[0m \u001b[0;32mNone\u001b[0m\u001b[0;34m:\u001b[0m\u001b[0;34m\u001b[0m\u001b[0;34m\u001b[0m\u001b[0m\n",
      "\u001b[0;32m~/projects/optional_packages/.conda/envs/optional_packages/lib/python3.8/importlib/__init__.py\u001b[0m in \u001b[0;36mimport_module\u001b[0;34m(name, package)\u001b[0m\n\u001b[1;32m    126\u001b[0m             \u001b[0mlevel\u001b[0m \u001b[0;34m+=\u001b[0m \u001b[0;36m1\u001b[0m\u001b[0;34m\u001b[0m\u001b[0;34m\u001b[0m\u001b[0m\n\u001b[0;32m--> 127\u001b[0;31m     \u001b[0;32mreturn\u001b[0m \u001b[0m_bootstrap\u001b[0m\u001b[0;34m.\u001b[0m\u001b[0m_gcd_import\u001b[0m\u001b[0;34m(\u001b[0m\u001b[0mname\u001b[0m\u001b[0;34m[\u001b[0m\u001b[0mlevel\u001b[0m\u001b[0;34m:\u001b[0m\u001b[0;34m]\u001b[0m\u001b[0;34m,\u001b[0m \u001b[0mpackage\u001b[0m\u001b[0;34m,\u001b[0m \u001b[0mlevel\u001b[0m\u001b[0;34m)\u001b[0m\u001b[0;34m\u001b[0m\u001b[0;34m\u001b[0m\u001b[0m\n\u001b[0m\u001b[1;32m    128\u001b[0m \u001b[0;34m\u001b[0m\u001b[0m\n",
      "\u001b[0;32m~/projects/optional_packages/.conda/envs/optional_packages/lib/python3.8/importlib/_bootstrap.py\u001b[0m in \u001b[0;36m_gcd_import\u001b[0;34m(name, package, level)\u001b[0m\n",
      "\u001b[0;32m~/projects/optional_packages/.conda/envs/optional_packages/lib/python3.8/importlib/_bootstrap.py\u001b[0m in \u001b[0;36m_find_and_load\u001b[0;34m(name, import_)\u001b[0m\n",
      "\u001b[0;32m~/projects/optional_packages/.conda/envs/optional_packages/lib/python3.8/importlib/_bootstrap.py\u001b[0m in \u001b[0;36m_find_and_load_unlocked\u001b[0;34m(name, import_)\u001b[0m\n",
      "\u001b[0;31mModuleNotFoundError\u001b[0m: No module named 'xarray'",
      "\nThe above exception was the direct cause of the following exception:\n",
      "\u001b[0;31mValueError\u001b[0m                                Traceback (most recent call last)",
      "\u001b[0;32m<ipython-input-10-38595fce607e>\u001b[0m in \u001b[0;36m<module>\u001b[0;34m\u001b[0m\n\u001b[0;32m----> 1\u001b[0;31m \u001b[0moptim\u001b[0m\u001b[0;34m.\u001b[0m\u001b[0msub_package_2\u001b[0m\u001b[0;34m.\u001b[0m\u001b[0mget_xarray_version\u001b[0m\u001b[0;34m(\u001b[0m\u001b[0;34m)\u001b[0m\u001b[0;34m\u001b[0m\u001b[0;34m\u001b[0m\u001b[0m\n\u001b[0m",
      "\u001b[0;32m~/projects/optional_packages/opt_imports/sub_package_2/sub_module_2.py\u001b[0m in \u001b[0;36mget_xarray_version\u001b[0;34m()\u001b[0m\n\u001b[1;32m      7\u001b[0m \u001b[0;34m\u001b[0m\u001b[0m\n\u001b[1;32m      8\u001b[0m \u001b[0;32mdef\u001b[0m \u001b[0mget_xarray_version\u001b[0m\u001b[0;34m(\u001b[0m\u001b[0;34m)\u001b[0m\u001b[0;34m:\u001b[0m\u001b[0;34m\u001b[0m\u001b[0;34m\u001b[0m\u001b[0m\n\u001b[0;32m----> 9\u001b[0;31m     \u001b[0;32mreturn\u001b[0m \u001b[0mxr\u001b[0m\u001b[0;34m.\u001b[0m\u001b[0m__version__\u001b[0m\u001b[0;34m\u001b[0m\u001b[0;34m\u001b[0m\u001b[0m\n\u001b[0m",
      "\u001b[0;32m~/projects/optional_packages/opt_imports/optional_imports.py\u001b[0m in \u001b[0;36m__getattribute__\u001b[0;34m(self, *args, **kwargs)\u001b[0m\n\u001b[1;32m     62\u001b[0m \u001b[0;34m\u001b[0m\u001b[0m\n\u001b[1;32m     63\u001b[0m             \u001b[0;32mdef\u001b[0m \u001b[0m__getattribute__\u001b[0m\u001b[0;34m(\u001b[0m\u001b[0mself\u001b[0m\u001b[0;34m,\u001b[0m \u001b[0;34m*\u001b[0m\u001b[0margs\u001b[0m\u001b[0;34m,\u001b[0m \u001b[0;34m**\u001b[0m\u001b[0mkwargs\u001b[0m\u001b[0;34m)\u001b[0m\u001b[0;34m:\u001b[0m\u001b[0;34m\u001b[0m\u001b[0;34m\u001b[0m\u001b[0m\n\u001b[0;32m---> 64\u001b[0;31m                 \u001b[0;32mraise\u001b[0m \u001b[0mValueError\u001b[0m\u001b[0;34m(\u001b[0m\u001b[0mmsg\u001b[0m\u001b[0;34m)\u001b[0m \u001b[0;32mfrom\u001b[0m \u001b[0mimport_error\u001b[0m\u001b[0;34m\u001b[0m\u001b[0;34m\u001b[0m\u001b[0m\n\u001b[0m\u001b[1;32m     65\u001b[0m \u001b[0;34m\u001b[0m\u001b[0m\n\u001b[1;32m     66\u001b[0m             \u001b[0;32mdef\u001b[0m \u001b[0m__getattr__\u001b[0m\u001b[0;34m(\u001b[0m\u001b[0mself\u001b[0m\u001b[0;34m,\u001b[0m \u001b[0;34m*\u001b[0m\u001b[0margs\u001b[0m\u001b[0;34m,\u001b[0m \u001b[0;34m**\u001b[0m\u001b[0mkwargs\u001b[0m\u001b[0;34m)\u001b[0m\u001b[0;34m:\u001b[0m\u001b[0;34m\u001b[0m\u001b[0;34m\u001b[0m\u001b[0m\n",
      "\u001b[0;31mValueError\u001b[0m: Install the `xarray` package with version `>=0.17.0` to make use of this feature."
     ]
    }
   ],
   "source": [
    "optim.sub_package_2.get_xarray_version()"
   ]
  },
  {
   "cell_type": "code",
   "execution_count": null,
   "id": "f8a65c5b",
   "metadata": {},
   "outputs": [],
   "source": [
    "from opt"
   ]
  }
 ],
 "metadata": {
  "kernelspec": {
   "display_name": "Python 3",
   "language": "python",
   "name": "python3"
  },
  "language_info": {
   "codemirror_mode": {
    "name": "ipython",
    "version": 3
   },
   "file_extension": ".py",
   "mimetype": "text/x-python",
   "name": "python",
   "nbconvert_exporter": "python",
   "pygments_lexer": "ipython3",
   "version": "3.8.5"
  },
  "latex_envs": {
   "LaTeX_envs_menu_present": true,
   "autoclose": false,
   "autocomplete": true,
   "bibliofile": "biblio.bib",
   "cite_by": "apalike",
   "current_citInitial": 1,
   "eqLabelWithNumbers": true,
   "eqNumInitial": 1,
   "hotkeys": {
    "equation": "Ctrl-E",
    "itemize": "Ctrl-I"
   },
   "labels_anchors": false,
   "latex_user_defs": false,
   "report_style_numbering": false,
   "user_envs_cfg": false
  },
  "toc": {
   "base_numbering": 1,
   "nav_menu": {},
   "number_sections": true,
   "sideBar": true,
   "skip_h1_title": false,
   "title_cell": "Table of Contents",
   "title_sidebar": "Contents",
   "toc_cell": false,
   "toc_position": {},
   "toc_section_display": true,
   "toc_window_display": false
  }
 },
 "nbformat": 4,
 "nbformat_minor": 5
}
